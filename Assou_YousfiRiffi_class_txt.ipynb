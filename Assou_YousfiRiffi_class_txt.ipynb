{
  "nbformat": 4,
  "nbformat_minor": 0,
  "metadata": {
    "colab": {
      "provenance": [],
      "gpuType": "T4"
    },
    "kernelspec": {
      "name": "python3",
      "display_name": "Python 3"
    },
    "language_info": {
      "name": "python"
    },
    "accelerator": "GPU"
  },
  "cells": [
    {
      "cell_type": "code",
      "execution_count": 3,
      "metadata": {
        "colab": {
          "base_uri": "https://localhost:8080/"
        },
        "id": "q0TV9AOQUVDD",
        "outputId": "5b843523-6979-4403-db8e-1b8f00668220"
      },
      "outputs": [
        {
          "output_type": "stream",
          "name": "stdout",
          "text": [
            "Requirement already satisfied: kaggle in /usr/local/lib/python3.10/dist-packages (1.6.14)\n",
            "Requirement already satisfied: six>=1.10 in /usr/local/lib/python3.10/dist-packages (from kaggle) (1.16.0)\n",
            "Requirement already satisfied: certifi>=2023.7.22 in /usr/local/lib/python3.10/dist-packages (from kaggle) (2024.6.2)\n",
            "Requirement already satisfied: python-dateutil in /usr/local/lib/python3.10/dist-packages (from kaggle) (2.8.2)\n",
            "Requirement already satisfied: requests in /usr/local/lib/python3.10/dist-packages (from kaggle) (2.31.0)\n",
            "Requirement already satisfied: tqdm in /usr/local/lib/python3.10/dist-packages (from kaggle) (4.66.4)\n",
            "Requirement already satisfied: python-slugify in /usr/local/lib/python3.10/dist-packages (from kaggle) (8.0.4)\n",
            "Requirement already satisfied: urllib3 in /usr/local/lib/python3.10/dist-packages (from kaggle) (2.0.7)\n",
            "Requirement already satisfied: bleach in /usr/local/lib/python3.10/dist-packages (from kaggle) (6.1.0)\n",
            "Requirement already satisfied: webencodings in /usr/local/lib/python3.10/dist-packages (from bleach->kaggle) (0.5.1)\n",
            "Requirement already satisfied: text-unidecode>=1.3 in /usr/local/lib/python3.10/dist-packages (from python-slugify->kaggle) (1.3)\n",
            "Requirement already satisfied: charset-normalizer<4,>=2 in /usr/local/lib/python3.10/dist-packages (from requests->kaggle) (3.3.2)\n",
            "Requirement already satisfied: idna<4,>=2.5 in /usr/local/lib/python3.10/dist-packages (from requests->kaggle) (3.7)\n"
          ]
        }
      ],
      "source": [
        "!pip install kaggle"
      ]
    },
    {
      "cell_type": "code",
      "source": [
        "!kaggle datasets download -d lakshmi25npathi/imdb-dataset-of-50k-movie-reviews"
      ],
      "metadata": {
        "colab": {
          "base_uri": "https://localhost:8080/"
        },
        "id": "wjVJNotnUY0_",
        "outputId": "1f208a26-a477-45e4-e20a-cac086829077"
      },
      "execution_count": 4,
      "outputs": [
        {
          "output_type": "stream",
          "name": "stdout",
          "text": [
            "Dataset URL: https://www.kaggle.com/datasets/lakshmi25npathi/imdb-dataset-of-50k-movie-reviews\n",
            "License(s): other\n",
            "Downloading imdb-dataset-of-50k-movie-reviews.zip to /content\n",
            " 35% 9.00M/25.7M [00:00<00:00, 94.2MB/s]\n",
            "100% 25.7M/25.7M [00:00<00:00, 175MB/s] \n"
          ]
        }
      ]
    },
    {
      "cell_type": "code",
      "source": [
        "!unzip imdb-dataset-of-50k-movie-reviews.zip"
      ],
      "metadata": {
        "colab": {
          "base_uri": "https://localhost:8080/"
        },
        "id": "u0yk0mILUhQP",
        "outputId": "61fb673f-cee1-47ae-979e-5c8de283e443"
      },
      "execution_count": 5,
      "outputs": [
        {
          "output_type": "stream",
          "name": "stdout",
          "text": [
            "Archive:  imdb-dataset-of-50k-movie-reviews.zip\n",
            "  inflating: IMDB Dataset.csv        \n"
          ]
        }
      ]
    },
    {
      "cell_type": "markdown",
      "source": [
        "# Dépendances"
      ],
      "metadata": {
        "id": "V1uT8fRh9B_c"
      }
    },
    {
      "cell_type": "code",
      "source": [
        "import pandas\n",
        "import matplotlib.pyplot as plt\n",
        "import numpy\n",
        "\n",
        "from bs4 import BeautifulSoup\n",
        "import re\n",
        "import nltk\n",
        "nltk.download('stopwords')\n",
        "\n",
        "from sklearn.preprocessing import LabelEncoder\n",
        "\n",
        "from keras.preprocessing.text import Tokenizer\n",
        "from keras.preprocessing.sequence import pad_sequences\n",
        "\n",
        "from sklearn.model_selection import train_test_split\n",
        "\n",
        "from keras.models import Model\n",
        "from keras.layers import Input, Embedding, LSTM, Attention, Flatten, Dense\n",
        "\n",
        "from keras.callbacks import EarlyStopping, ReduceLROnPlateau\n",
        "\n",
        "from sklearn.metrics import accuracy_score, precision_score, recall_score, f1_score, roc_auc_score, roc_curve"
      ],
      "metadata": {
        "colab": {
          "base_uri": "https://localhost:8080/"
        },
        "id": "GAZ5lZOfUkML",
        "outputId": "261221dd-8ca3-4b0c-b10c-97f36df84460"
      },
      "execution_count": 6,
      "outputs": [
        {
          "output_type": "stream",
          "name": "stderr",
          "text": [
            "[nltk_data] Downloading package stopwords to /root/nltk_data...\n",
            "[nltk_data]   Package stopwords is already up-to-date!\n"
          ]
        }
      ]
    },
    {
      "cell_type": "markdown",
      "source": [
        "# Chargement du Dataset"
      ],
      "metadata": {
        "id": "I1GqOTLI9bkE"
      }
    },
    {
      "cell_type": "code",
      "source": [
        "df = pandas.read_csv('IMDB Dataset.csv')"
      ],
      "metadata": {
        "id": "qv4qOdl3UnFi"
      },
      "execution_count": 7,
      "outputs": []
    },
    {
      "cell_type": "markdown",
      "source": [
        "# Fonction de Prétraitement"
      ],
      "metadata": {
        "id": "iJGq_Xnj9joO"
      }
    },
    {
      "cell_type": "code",
      "source": [
        "def preprocess_review(review):\n",
        "  review = BeautifulSoup(review).get_text()\n",
        "  review = re.sub(\"[^a-zA-Z]\", \" \", review)\n",
        "  review = review.lower()\n",
        "\n",
        "  review = review.split()\n",
        "  stop_words = set(nltk.corpus.stopwords.words(\"english\"))\n",
        "\n",
        "  return \" \".join([word for word in review if word not in stop_words])"
      ],
      "metadata": {
        "id": "l_M_U0HkUxBB"
      },
      "execution_count": 8,
      "outputs": []
    },
    {
      "cell_type": "code",
      "source": [
        "reviews = df[\"review\"].apply(preprocess_review)"
      ],
      "metadata": {
        "colab": {
          "base_uri": "https://localhost:8080/"
        },
        "id": "kN_aUHaqU9ms",
        "outputId": "ca8c0a55-f91b-42af-d07a-7a5c55c75195"
      },
      "execution_count": 9,
      "outputs": [
        {
          "output_type": "stream",
          "name": "stderr",
          "text": [
            "<ipython-input-8-381431518874>:2: MarkupResemblesLocatorWarning: The input looks more like a filename than markup. You may want to open this file and pass the filehandle into Beautiful Soup.\n",
            "  review = BeautifulSoup(review).get_text()\n"
          ]
        }
      ]
    },
    {
      "cell_type": "markdown",
      "source": [
        "# Label Encoding"
      ],
      "metadata": {
        "id": "JAs89qHG9qBr"
      }
    },
    {
      "cell_type": "code",
      "source": [
        "le = LabelEncoder()\n",
        "sentiments = le.fit_transform(df[\"sentiment\"])"
      ],
      "metadata": {
        "id": "TcZnNOPWVAY6"
      },
      "execution_count": 10,
      "outputs": []
    },
    {
      "cell_type": "markdown",
      "source": [
        "# Optimisation"
      ],
      "metadata": {
        "id": "TyYr7FTT9vjt"
      }
    },
    {
      "cell_type": "code",
      "source": [
        "reviews_lengths = [len(review.split()) for review in reviews]\n",
        "\n",
        "plt.hist(reviews_lengths, bins=15)\n",
        "plt.xlabel(\"Review Length\")\n",
        "plt.ylabel(\"Number of reviews\")\n",
        "plt.show()"
      ],
      "metadata": {
        "colab": {
          "base_uri": "https://localhost:8080/",
          "height": 449
        },
        "id": "1kU3uZPKVLEc",
        "outputId": "86c9f62e-4dce-47e2-d4ff-765f955d6b84"
      },
      "execution_count": 11,
      "outputs": [
        {
          "output_type": "display_data",
          "data": {
            "text/plain": [
              "<Figure size 640x480 with 1 Axes>"
            ],
            "image/png": "[encoded data removed]"
          },
          "metadata": {}
        }
      ]
    },
    {
      "cell_type": "code",
      "source": [
        "X, Y = [], []\n",
        "for index, review in enumerate(reviews.values):\n",
        "  if len(review.split()) < 400:\n",
        "    X.append(review)\n",
        "    Y.append(sentiments[index])\n",
        "\n",
        "X, Y = numpy.array(X), numpy.array(Y)"
      ],
      "metadata": {
        "id": "Z93DWDvrVZbq"
      },
      "execution_count": 12,
      "outputs": []
    },
    {
      "cell_type": "code",
      "source": [
        "len(X)"
      ],
      "metadata": {
        "colab": {
          "base_uri": "https://localhost:8080/"
        },
        "id": "4uOzW3BlVv_I",
        "outputId": "9a03cb74-602a-4bbe-9199-348bc4467733"
      },
      "execution_count": 13,
      "outputs": [
        {
          "output_type": "execute_result",
          "data": {
            "text/plain": [
              "48958"
            ]
          },
          "metadata": {},
          "execution_count": 13
        }
      ]
    },
    {
      "cell_type": "markdown",
      "source": [
        "# Tokenisation"
      ],
      "metadata": {
        "id": "EJX7pkPA96X_"
      }
    },
    {
      "cell_type": "code",
      "source": [
        "tokenizer = Tokenizer(num_words=50000)\n",
        "tokenizer.fit_on_texts(X)\n",
        "X = tokenizer.texts_to_sequences(X)\n",
        "X = pad_sequences(X, maxlen=400, padding=\"post\")"
      ],
      "metadata": {
        "id": "MTgBSPxMVzvp"
      },
      "execution_count": 14,
      "outputs": []
    },
    {
      "cell_type": "code",
      "source": [
        "X"
      ],
      "metadata": {
        "colab": {
          "base_uri": "https://localhost:8080/"
        },
        "id": "8yEvWN8DV-1j",
        "outputId": "6fdfcd31-317c-4c30-b1ef-1232249f4c0c"
      },
      "execution_count": 15,
      "outputs": [
        {
          "output_type": "execute_result",
          "data": {
            "text/plain": [
              "array([[    3,  1803,   929, ...,     0,     0,     0],\n",
              "       [  264,    41,   240, ...,     0,     0,     0],\n",
              "       [   83,   264,    23, ...,     0,     0,     0],\n",
              "       ...,\n",
              "       [ 3181,  4267, 35810, ...,     0,     0,     0],\n",
              "       [   70,  2761,   785, ...,     0,     0,     0],\n",
              "       [    3,  5724,   207, ...,     0,     0,     0]], dtype=int32)"
            ]
          },
          "metadata": {},
          "execution_count": 15
        }
      ]
    },
    {
      "cell_type": "markdown",
      "source": [
        "# Split Train Test"
      ],
      "metadata": {
        "id": "VjdtIEQ899-H"
      }
    },
    {
      "cell_type": "code",
      "source": [
        "x_train, x_test, y_train, y_test = train_test_split(X, Y, stratify=Y, test_size=0.2) # Stratify pour garder la meme proportion de classes dans train/test"
      ],
      "metadata": {
        "id": "jJKz8E72WP7R"
      },
      "execution_count": 16,
      "outputs": []
    },
    {
      "cell_type": "markdown",
      "source": [
        "# Callbacks"
      ],
      "metadata": {
        "id": "FgJSUO4q-BPf"
      }
    },
    {
      "cell_type": "code",
      "source": [
        "early_stopping = EarlyStopping(monitor=\"val_loss\", patience=5, restore_best_weights=True)"
      ],
      "metadata": {
        "id": "fufnVDbFWxy4"
      },
      "execution_count": 17,
      "outputs": []
    },
    {
      "cell_type": "code",
      "source": [
        "reduce_lr = ReduceLROnPlateau(\n",
        "    monitor='val_loss',  # Metric to monitor\n",
        "    factor=0.1,          # Factor by which the learning rate will be reduced\n",
        "    patience=5,          # Number of epochs with no improvement after which learning rate will be reduced\n",
        "    min_lr=1e-6,         # Lower bound on the learning rate\n",
        "    verbose=1            # Print messages when the learning rate is reduced\n",
        ")"
      ],
      "metadata": {
        "id": "xyoGYwz4W5DD"
      },
      "execution_count": 18,
      "outputs": []
    },
    {
      "cell_type": "markdown",
      "source": [
        "# Essai avec Sequential en vain"
      ],
      "metadata": {
        "id": "9uXInB1_aVcO"
      }
    },
    {
      "cell_type": "code",
      "source": [
        "#model_lstm = Sequential([\n",
        "#    Embedding(input_dim=5000, output_dim=128, input_length=400),\n",
        "#    LSTM(128, return_sequences=True),\n",
        "#    Dropout(0.2),\n",
        "#    LSTM(64),\n",
        "#    Dropout(0.2),\n",
        "#    Dense(1, activation='sigmoid')\n",
        "#])\n",
        "#model_lstm.compile(loss=\"binary_crossentropy\", optimizer=\"adam\",  metrics=[\"accuracy\"])\n",
        "#model_lstm.summary()"
      ],
      "metadata": {
        "id": "DbUjUwO3W6sa"
      },
      "execution_count": 19,
      "outputs": []
    },
    {
      "cell_type": "markdown",
      "source": [
        "# Définition du Modèle"
      ],
      "metadata": {
        "id": "sgaTtfkZ-Gb2"
      }
    },
    {
      "cell_type": "code",
      "source": [
        "def lstm_model():\n",
        "  input_layer = Input(shape=(400,))\n",
        "\n",
        "  embedding_layer = Embedding(input_dim=80_000, output_dim=128)(input_layer)\n",
        "  lstm_layer = LSTM(128, return_sequences=True)(embedding_layer)\n",
        "  attention_layer = Attention()([lstm_layer, lstm_layer])\n",
        "\n",
        "  flatten_layer = Flatten()(attention_layer)\n",
        "\n",
        "  output_layer = Dense(1, activation=\"sigmoid\")(flatten_layer)\n",
        "\n",
        "  model = Model(inputs=input_layer, outputs=output_layer)\n",
        "\n",
        "  model.compile(optimizer=\"adam\", loss=\"binary_crossentropy\", metrics=[\"accuracy\"])\n",
        "  model.summary()\n",
        "  return model"
      ],
      "metadata": {
        "id": "S7BILUujZS1w"
      },
      "execution_count": 20,
      "outputs": []
    },
    {
      "cell_type": "code",
      "source": [
        "model_lstm = lstm_model()"
      ],
      "metadata": {
        "colab": {
          "base_uri": "https://localhost:8080/"
        },
        "id": "EGHTnTaaZee2",
        "outputId": "cf948ad1-dbd9-4132-ef07-ecf58b6ba9a6"
      },
      "execution_count": 21,
      "outputs": [
        {
          "output_type": "stream",
          "name": "stdout",
          "text": [
            "Model: \"model\"\n",
            "__________________________________________________________________________________________________\n",
            " Layer (type)                Output Shape                 Param #   Connected to                  \n",
            "==================================================================================================\n",
            " input_1 (InputLayer)        [(None, 400)]                0         []                            \n",
            "                                                                                                  \n",
            " embedding (Embedding)       (None, 400, 128)             1024000   ['input_1[0][0]']             \n",
            "                                                          0                                       \n",
            "                                                                                                  \n",
            " lstm (LSTM)                 (None, 400, 128)             131584    ['embedding[0][0]']           \n",
            "                                                                                                  \n",
            " attention (Attention)       (None, 400, 128)             0         ['lstm[0][0]',                \n",
            "                                                                     'lstm[0][0]']                \n",
            "                                                                                                  \n",
            " flatten (Flatten)           (None, 51200)                0         ['attention[0][0]']           \n",
            "                                                                                                  \n",
            " dense (Dense)               (None, 1)                    51201     ['flatten[0][0]']             \n",
            "                                                                                                  \n",
            "==================================================================================================\n",
            "Total params: 10422785 (39.76 MB)\n",
            "Trainable params: 10422785 (39.76 MB)\n",
            "Non-trainable params: 0 (0.00 Byte)\n",
            "__________________________________________________________________________________________________\n"
          ]
        }
      ]
    },
    {
      "cell_type": "markdown",
      "source": [
        "# Entrainement"
      ],
      "metadata": {
        "id": "Ud3g_Q9R-Of3"
      }
    },
    {
      "cell_type": "code",
      "source": [
        "history = model_lstm.fit(x_train, y_train, epochs=100, batch_size=64, validation_split=0.15, callbacks=[reduce_lr, early_stopping])"
      ],
      "metadata": {
        "colab": {
          "base_uri": "https://localhost:8080/"
        },
        "id": "RUUjwLHqXqUx",
        "outputId": "81b8d6f6-7e9e-4b57-d65b-6518a7aba274"
      },
      "execution_count": 22,
      "outputs": [
        {
          "output_type": "stream",
          "name": "stdout",
          "text": [
            "Epoch 1/100\n",
            "521/521 [==============================] - 60s 108ms/step - loss: 0.3558 - accuracy: 0.8390 - val_loss: 0.2640 - val_accuracy: 0.8962 - lr: 0.0010\n",
            "Epoch 2/100\n",
            "521/521 [==============================] - 34s 65ms/step - loss: 0.1574 - accuracy: 0.9408 - val_loss: 0.3127 - val_accuracy: 0.8844 - lr: 0.0010\n",
            "Epoch 3/100\n",
            "521/521 [==============================] - 27s 52ms/step - loss: 0.0770 - accuracy: 0.9721 - val_loss: 0.4183 - val_accuracy: 0.8834 - lr: 0.0010\n",
            "Epoch 4/100\n",
            "521/521 [==============================] - 23s 45ms/step - loss: 0.0429 - accuracy: 0.9852 - val_loss: 0.6166 - val_accuracy: 0.8761 - lr: 0.0010\n",
            "Epoch 5/100\n",
            "521/521 [==============================] - 21s 40ms/step - loss: 0.0264 - accuracy: 0.9907 - val_loss: 0.7969 - val_accuracy: 0.8710 - lr: 0.0010\n",
            "Epoch 6/100\n",
            "521/521 [==============================] - ETA: 0s - loss: 0.0209 - accuracy: 0.9931\n",
            "Epoch 6: ReduceLROnPlateau reducing learning rate to 0.00010000000474974513.\n",
            "521/521 [==============================] - 20s 39ms/step - loss: 0.0209 - accuracy: 0.9931 - val_loss: 0.6745 - val_accuracy: 0.8773 - lr: 0.0010\n"
          ]
        }
      ]
    },
    {
      "cell_type": "markdown",
      "source": [
        "# Résultats"
      ],
      "metadata": {
        "id": "H3tDZYFB-U2L"
      }
    },
    {
      "cell_type": "code",
      "source": [
        "plt.plot(history.history[\"loss\"], label=\"train\")\n",
        "plt.plot(history.history[\"val_loss\"], label=\"validation\")\n",
        "plt.legend()\n",
        "plt.show()"
      ],
      "metadata": {
        "id": "8-BzVQBwX7pm",
        "colab": {
          "base_uri": "https://localhost:8080/",
          "height": 430
        },
        "outputId": "baf5b1f0-5be6-4f74-9b1c-2ab27391c5a0"
      },
      "execution_count": 23,
      "outputs": [
        {
          "output_type": "display_data",
          "data": {
            "text/plain": [
              "<Figure size 640x480 with 1 Axes>"
            ],
            "image/png": "[encoded data removed]"
          },
          "metadata": {}
        }
      ]
    },
    {
      "cell_type": "code",
      "source": [
        "predictions = model_lstm.predict(x_test)\n",
        "\n",
        "# Arrondir les prédictions\n",
        "predictions_binary = (predictions > 0.5).astype(int)\n",
        "\n",
        "accuracy = accuracy_score(y_test, predictions_binary)\n",
        "precision = precision_score(y_test, predictions_binary)\n",
        "recall = recall_score(y_test, predictions_binary)\n",
        "f1 = f1_score(y_test, predictions_binary)\n",
        "roc_auc = roc_auc_score(y_test, predictions)\n",
        "\n",
        "print(\"Accuracy:\", accuracy)\n",
        "print(\"Precision:\", precision)\n",
        "print(\"Recall:\", recall)\n",
        "print(\"F1 Score:\", f1)\n",
        "print(\"ROC AUC Score:\", roc_auc)"
      ],
      "metadata": {
        "colab": {
          "base_uri": "https://localhost:8080/"
        },
        "id": "NvBj3hrR7UgN",
        "outputId": "181af1b6-b3c1-4fd2-e4dc-6297cc1b0906"
      },
      "execution_count": 24,
      "outputs": [
        {
          "output_type": "stream",
          "name": "stdout",
          "text": [
            "306/306 [==============================] - 4s 10ms/step\n",
            "Accuracy: 0.8935866013071896\n",
            "Precision: 0.8703953712632594\n",
            "Recall: 0.924226909686668\n",
            "F1 Score: 0.8965037743345253\n",
            "ROC AUC Score: 0.9584711459811661\n"
          ]
        }
      ]
    },
    {
      "cell_type": "code",
      "source": [
        "fpr, tpr, thresholds = roc_curve(y_test, predictions)\n",
        "\n",
        "# Affichage de la courbe ROC\n",
        "plt.figure(figsize=(8, 6))\n",
        "plt.plot(fpr, tpr, label='ROC Curve')\n",
        "plt.plot([0, 1], [0, 1], 'k--', label='Random')\n",
        "plt.xlabel('False Positive Rate')\n",
        "plt.ylabel('True Positive Rate')\n",
        "plt.title('ROC Curve')\n",
        "plt.legend()\n",
        "plt.show()"
      ],
      "metadata": {
        "colab": {
          "base_uri": "https://localhost:8080/",
          "height": 564
        },
        "id": "kIU98z_P7y83",
        "outputId": "0c9fa945-5368-41e5-fc57-5ce1e6226918"
      },
      "execution_count": 25,
      "outputs": [
        {
          "output_type": "display_data",
          "data": {
            "text/plain": [
              "<Figure size 800x600 with 1 Axes>"
            ],
            "image/png": "[encoded data removed]"
          },
          "metadata": {}
        }
      ]
    },
    {
      "cell_type": "code",
      "source": [
        "best_threshold = None\n",
        "best_f1 = 0\n",
        "\n",
        "# Recherche du seuil optimal\n",
        "for threshold in thresholds:\n",
        "    f1 = f1_score(y_test, predictions > threshold)\n",
        "    if f1 > best_f1:\n",
        "        best_f1 = f1\n",
        "        best_threshold = threshold\n",
        "\n",
        "print(\"Best Threshold:\", best_threshold)\n",
        "print(\"Best F1 Score:\", best_f1)"
      ],
      "metadata": {
        "colab": {
          "base_uri": "https://localhost:8080/"
        },
        "id": "izKG0xMB7_c8",
        "outputId": "6b210ce0-8757-4595-f644-05f3985cd6f0"
      },
      "execution_count": 26,
      "outputs": [
        {
          "output_type": "stream",
          "name": "stdout",
          "text": [
            "Best Threshold: 0.50127596\n",
            "Best F1 Score: 0.8966613672496025\n"
          ]
        }
      ]
    },
    {
      "cell_type": "code",
      "source": [],
      "metadata": {
        "id": "VjO45G9C8Ig8"
      },
      "execution_count": null,
      "outputs": []
    }
  ]
}